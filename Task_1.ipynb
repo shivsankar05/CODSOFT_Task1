{
  "nbformat": 4,
  "nbformat_minor": 0,
  "metadata": {
    "colab": {
      "provenance": []
    },
    "kernelspec": {
      "name": "python3",
      "display_name": "Python 3"
    },
    "language_info": {
      "name": "python"
    }
  },
  "cells": [
    {
      "cell_type": "markdown",
      "source": [
        "Task 1: To Do List\n",
        "\n"
      ],
      "metadata": {
        "id": "ZyozSmY4rhe9"
      }
    },
    {
      "cell_type": "code",
      "source": [
        "import os"
      ],
      "metadata": {
        "id": "4haenBfurrkY"
      },
      "execution_count": null,
      "outputs": []
    },
    {
      "cell_type": "code",
      "source": [
        "def show_tasks(tasks):\n",
        "  if not tasks:\n",
        "    print(\"No tasks found.\")\n",
        "  else:\n",
        "    print(\"Tasks:\")\n",
        "    for index,task in enumerate(tasks,start=1):\n",
        "      print(f\"{index}.{task}\")\n",
        "\n",
        "def add_task(tasks,new_task):\n",
        "  tasks.append(new_task)\n",
        "  print(\"Task added successfully!\")\n",
        "def updatew_task(tasks,index,updated_task):\n",
        "  if 1 <= index <= len(tasks):\n",
        "    tasks[index-1] = updated_task\n",
        "    print(\"Task updated successfully!\")\n",
        "  else:\n",
        "    print(\"Invalid task index.\")\n",
        "def delete_task(tasks,index):\n",
        "    if 1 <= index <= len(tasks):\n",
        "      delete_task = tasks.pop(index-1)\n",
        "      print(f\"Task '{delete_task}' deleted successfully!\")\n",
        "    else:\n",
        "      print(\"Invalid task index.\")"
      ],
      "metadata": {
        "id": "LImIY_TAwrLg"
      },
      "execution_count": null,
      "outputs": []
    },
    {
      "cell_type": "code",
      "source": [
        "def save_tasks_to_file(file_path,tasks):\n",
        "  with open(file_path,\"w\") as file:\n",
        "    for task in tasks:\n",
        "      file.write(f\"{tasks}\\n\")"
      ],
      "metadata": {
        "id": "R89-hxXrvv37"
      },
      "execution_count": null,
      "outputs": []
    },
    {
      "cell_type": "code",
      "source": [
        "def load_tasks_from_file(file_path):\n",
        "  if os.path.exists(file_path):\n",
        "    with open(file_path,\"r\") as file:\n",
        "      tasks = file.read().splitlines()\n",
        "    return tasks\n",
        "  else:\n",
        "    return []"
      ],
      "metadata": {
        "id": "s79lE_c-vcee"
      },
      "execution_count": null,
      "outputs": []
    },
    {
      "cell_type": "code",
      "source": [
        "def main():\n",
        "  file_path = \"todo_list_txt\"\n",
        "  tasks = load_tasks_from_file(file_path)\n",
        "  while True:\n",
        "    print(\"\\To Do List\")\n",
        "    print(\"1.Show Tasks\")\n",
        "    print(\"2.Add Tasks\")\n",
        "    print(\"3.Update Tasks\")\n",
        "    print(\"4.Delete Tasks\")\n",
        "    print(\"5.Save & Exit\")\n",
        "    choice=int(input(\"Enter your choice(1-5):\"))\n",
        "    if choice == 1:\n",
        "      show_tasks(tasks)\n",
        "    elif choice == 2:\n",
        "      new_task = input(\"Enter a new task to add:\")\n",
        "      (add_task(tasks,new_task))\n",
        "    elif choice == 3:\n",
        "      index = int(input(\"Enter the index of the task to update:\"))\n",
        "      updated_task = input(\"Enter the updated task:\")\n",
        "      updatew_task(tasks,index,updated_task)\n",
        "    elif choice == 4:\n",
        "      index = int(input(\"Enter the index of the task to delete:\"))\n",
        "      delete_task(tasks,index)\n",
        "    elif choice == 5:\n",
        "      save_tasks_to_file(file_path,tasks)\n",
        "      print(\"Tasks saved.Exiting...\")\n",
        "      break\n",
        "    else:\n",
        "      print(\"Invalid choice.Please try again.\")\n",
        "\n",
        "\n",
        "\n",
        "\n",
        "      if __name__ == \"__main__\":\n",
        "        main()\n",
        "\n",
        "\n",
        "\n"
      ],
      "metadata": {
        "id": "DQTitWDVrumz"
      },
      "execution_count": null,
      "outputs": []
    },
    {
      "cell_type": "code",
      "source": [
        "main()"
      ],
      "metadata": {
        "colab": {
          "base_uri": "https://localhost:8080/"
        },
        "id": "-eZj-3IczPse",
        "outputId": "e429053a-72c9-4e25-9a42-4a3d059f5d76"
      },
      "execution_count": null,
      "outputs": [
        {
          "output_type": "stream",
          "name": "stdout",
          "text": [
            "\\To Do List\n",
            "1.Show Tasks\n",
            "2.Add Tasks\n",
            "3.Update Tasks\n",
            "4.Delete Tasks\n",
            "5.Save & Exit\n",
            "Enter your choice(1-5):2\n",
            "Enter a new task to add:I am Studying Data Science\n",
            "Task added successfully!\n",
            "\\To Do List\n",
            "1.Show Tasks\n",
            "2.Add Tasks\n",
            "3.Update Tasks\n",
            "4.Delete Tasks\n",
            "5.Save & Exit\n",
            "Enter your choice(1-5):2\n",
            "Enter a new task to add:Show me the Video of EDA\n",
            "Task added successfully!\n",
            "\\To Do List\n",
            "1.Show Tasks\n",
            "2.Add Tasks\n",
            "3.Update Tasks\n",
            "4.Delete Tasks\n",
            "5.Save & Exit\n",
            "Enter your choice(1-5):1\n",
            "Tasks:\n",
            "1.I am Studying Data Science\n",
            "2.Show me the Video of EDA\n",
            "\\To Do List\n",
            "1.Show Tasks\n",
            "2.Add Tasks\n",
            "3.Update Tasks\n",
            "4.Delete Tasks\n",
            "5.Save & Exit\n",
            "Enter your choice(1-5):3\n",
            "Enter the index of the task to update:1\n",
            "Enter the updated task:I am studying Data Science With Generative AI\n",
            "Task updated successfully!\n",
            "\\To Do List\n",
            "1.Show Tasks\n",
            "2.Add Tasks\n",
            "3.Update Tasks\n",
            "4.Delete Tasks\n",
            "5.Save & Exit\n",
            "Enter your choice(1-5):4\n",
            "Enter the index of the task to delete:2\n",
            "Task 'Show me the Video of EDA' deleted successfully!\n",
            "\\To Do List\n",
            "1.Show Tasks\n",
            "2.Add Tasks\n",
            "3.Update Tasks\n",
            "4.Delete Tasks\n",
            "5.Save & Exit\n",
            "Enter your choice(1-5):5\n",
            "Tasks saved.Exiting...\n"
          ]
        }
      ]
    }
  ]
}